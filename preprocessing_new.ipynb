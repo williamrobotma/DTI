{
 "metadata": {
  "language_info": {
   "codemirror_mode": {
    "name": "ipython",
    "version": 3
   },
   "file_extension": ".py",
   "mimetype": "text/x-python",
   "name": "python",
   "nbconvert_exporter": "python",
   "pygments_lexer": "ipython3",
   "version": "3.7.9-final"
  },
  "orig_nbformat": 2,
  "kernelspec": {
   "name": "python3",
   "display_name": "Python 3"
  }
 },
 "nbformat": 4,
 "nbformat_minor": 2,
 "cells": [
  {
   "cell_type": "code",
   "execution_count": 1,
   "metadata": {},
   "outputs": [],
   "source": [
    "results_folder = \"./results/\"\n",
    "data_folder = \"./data/\"\n",
    "models_folder = \"./models/\""
   ]
  },
  {
   "cell_type": "code",
   "execution_count": 2,
   "metadata": {},
   "outputs": [],
   "source": [
    "import os\n",
    "\n",
    "from DeepPurpose.dataset import *\n",
    "import DTI_inspire as models\n",
    "import matplotlib.pyplot as plt\n",
    "import pandas as pd\n",
    "from utils_inspire import *"
   ]
  },
  {
   "cell_type": "code",
   "execution_count": 3,
   "metadata": {},
   "outputs": [
    {
     "output_type": "stream",
     "name": "stdout",
     "text": [
      "Beginning Processing...\n",
      "Beginning to extract zip file...\n",
      "Default set to logspace (nM -> p) for easier regression\n",
      "Done!\n",
      "Loading Dataset from path...\n",
      "b'Skipping line 772572: expected 193 fields, saw 205\\nSkipping line 772598: expected 193 fields, saw 205\\n'\n",
      "b'Skipping line 805291: expected 193 fields, saw 205\\n'\n",
      "b'Skipping line 827961: expected 193 fields, saw 265\\n'\n",
      "b'Skipping line 1231688: expected 193 fields, saw 241\\n'\n",
      "b'Skipping line 1345591: expected 193 fields, saw 241\\nSkipping line 1345592: expected 193 fields, saw 241\\nSkipping line 1345593: expected 193 fields, saw 241\\nSkipping line 1345594: expected 193 fields, saw 241\\nSkipping line 1345595: expected 193 fields, saw 241\\nSkipping line 1345596: expected 193 fields, saw 241\\nSkipping line 1345597: expected 193 fields, saw 241\\nSkipping line 1345598: expected 193 fields, saw 241\\nSkipping line 1345599: expected 193 fields, saw 241\\n'\n",
      "b'Skipping line 1358864: expected 193 fields, saw 205\\n'\n",
      "b'Skipping line 1378087: expected 193 fields, saw 241\\nSkipping line 1378088: expected 193 fields, saw 241\\nSkipping line 1378089: expected 193 fields, saw 241\\nSkipping line 1378090: expected 193 fields, saw 241\\nSkipping line 1378091: expected 193 fields, saw 241\\nSkipping line 1378092: expected 193 fields, saw 241\\nSkipping line 1378093: expected 193 fields, saw 241\\nSkipping line 1378094: expected 193 fields, saw 241\\nSkipping line 1378095: expected 193 fields, saw 241\\n'\n",
      "b'Skipping line 1417264: expected 193 fields, saw 205\\n'\n",
      "Beginning Processing...\n",
      "There are 66444 drug target pairs.\n",
      "Default set to logspace (nM -> p) for easier regression\n"
     ]
    }
   ],
   "source": [
    "X_drug, X_target, y  = load_process_DAVIS(path = data_folder, binary = False, convert_to_log = True, threshold = 30)\n",
    "\n",
    "if not os.path.isfile(data_folder + 'BindingDB_All.tsv'):\n",
    "    bdb_path = download_BindingDB(path = data_folder)\n",
    "else:\n",
    "    bdb_path = data_folder + 'BindingDB_All.tsv'\n",
    "X_drug2, X_target2, y2  = process_BindingDB(path = bdb_path, df = None, y = 'Kd', binary = False, convert_to_log = True, threshold = 30)"
   ]
  },
  {
   "cell_type": "code",
   "execution_count": 4,
   "metadata": {},
   "outputs": [],
   "source": [
    "X_drug = np.concatenate((X_drug, X_drug2), axis=0)\n",
    "X_target = np.concatenate((X_target, X_target2), axis=0)\n",
    "y = np.concatenate((y, y2), axis=0)"
   ]
  },
  {
   "cell_type": "code",
   "execution_count": 5,
   "metadata": {},
   "outputs": [],
   "source": [
    "upper = np.vectorize(lambda x: x.upper())\n",
    "X_drug = upper(X_drug)\n",
    "X_target = upper(X_target)"
   ]
  },
  {
   "cell_type": "code",
   "execution_count": 6,
   "metadata": {},
   "outputs": [
    {
     "output_type": "execute_result",
     "data": {
      "text/plain": [
       "                                                       0  \\\n",
       "0      CC1=C2C=C(C=CC2=NN1)C3=CC(=CN=C3)OCC(CC4=CC=CC...   \n",
       "1      CC1=C2C=C(C=CC2=NN1)C3=CC(=CN=C3)OCC(CC4=CC=CC...   \n",
       "2      CC1=C2C=C(C=CC2=NN1)C3=CC(=CN=C3)OCC(CC4=CC=CC...   \n",
       "3      CC1=C2C=C(C=CC2=NN1)C3=CC(=CN=C3)OCC(CC4=CC=CC...   \n",
       "4      CC1=C2C=C(C=CC2=NN1)C3=CC(=CN=C3)OCC(CC4=CC=CC...   \n",
       "...                                                  ...   \n",
       "96495  CC(C)(C)C[C@@H]1N[C@H]([C@H](C2CCCC(CL)C2F)[C@...   \n",
       "96496  CC[C@@H]([C@H](C)O)N1[C@@H]([C@H](C[C@](C)(CC(...   \n",
       "96497  CC(C)[C@@H](CS(=O)(=O)C(C)C)N1[C@@H]([C@H](C[C...   \n",
       "96498                        CCCCCCCOC1OC(CO)C(O)C(O)C1O   \n",
       "96499                        CCCCCCCOC1OC(CO)C(O)C(O)C1O   \n",
       "\n",
       "                                                       1                   2  \n",
       "0      MKKFFDSRREQGGSGLGSGSSGGGGSTSGLGSGYIGRVFGIGRQQV...  7.3655227298392685  \n",
       "1      PFWKILNPLLERGTYYYFMGQQPGKVLGDQRRPSLPALHFIKGAGK...   4.999995657076895  \n",
       "2      PFWKILNPLLERGTYYYFMGQQPGKVLGDQRRPSLPALHFIKGAGK...   4.999995657076895  \n",
       "3      PFWKILNPLLERGTYYYFMGQQPGKVLGDQRRPSLPALHFIKGAGK...   4.999995657076895  \n",
       "4      PFWKILNPLLERGTYYYFMGQQPGKVLGDQRRPSLPALHFIKGAGK...   4.999995657076895  \n",
       "...                                                  ...                 ...  \n",
       "96495  MCNTNMSVPTDGAVTTSQIPASEQETLVRPKPLLLKLLKSVGAQKD...    8.55284196865778  \n",
       "96496  MCNTNMSVPTDGAVTTSQIPASEQETLVRPKPLLLKLLKSVGAQKD...   9.301029995663981  \n",
       "96497  MCNTNMSVPTDGAVTTSQIPASEQETLVRPKPLLLKLLKSVGAQKD...   9.838631997765026  \n",
       "96498  MKRVITLFAVLLMGWSVNAWSFACKTANGTAIPIGGGSANVYVNLA...   7.767003889607846  \n",
       "96499  MKRVITLFAVLLMGWSVNAWSFACKTANGTAIPIGGGSANVYVNLA...   7.718966632752273  \n",
       "\n",
       "[96500 rows x 3 columns]"
      ],
      "text/html": "<div>\n<style scoped>\n    .dataframe tbody tr th:only-of-type {\n        vertical-align: middle;\n    }\n\n    .dataframe tbody tr th {\n        vertical-align: top;\n    }\n\n    .dataframe thead th {\n        text-align: right;\n    }\n</style>\n<table border=\"1\" class=\"dataframe\">\n  <thead>\n    <tr style=\"text-align: right;\">\n      <th></th>\n      <th>0</th>\n      <th>1</th>\n      <th>2</th>\n    </tr>\n  </thead>\n  <tbody>\n    <tr>\n      <th>0</th>\n      <td>CC1=C2C=C(C=CC2=NN1)C3=CC(=CN=C3)OCC(CC4=CC=CC...</td>\n      <td>MKKFFDSRREQGGSGLGSGSSGGGGSTSGLGSGYIGRVFGIGRQQV...</td>\n      <td>7.3655227298392685</td>\n    </tr>\n    <tr>\n      <th>1</th>\n      <td>CC1=C2C=C(C=CC2=NN1)C3=CC(=CN=C3)OCC(CC4=CC=CC...</td>\n      <td>PFWKILNPLLERGTYYYFMGQQPGKVLGDQRRPSLPALHFIKGAGK...</td>\n      <td>4.999995657076895</td>\n    </tr>\n    <tr>\n      <th>2</th>\n      <td>CC1=C2C=C(C=CC2=NN1)C3=CC(=CN=C3)OCC(CC4=CC=CC...</td>\n      <td>PFWKILNPLLERGTYYYFMGQQPGKVLGDQRRPSLPALHFIKGAGK...</td>\n      <td>4.999995657076895</td>\n    </tr>\n    <tr>\n      <th>3</th>\n      <td>CC1=C2C=C(C=CC2=NN1)C3=CC(=CN=C3)OCC(CC4=CC=CC...</td>\n      <td>PFWKILNPLLERGTYYYFMGQQPGKVLGDQRRPSLPALHFIKGAGK...</td>\n      <td>4.999995657076895</td>\n    </tr>\n    <tr>\n      <th>4</th>\n      <td>CC1=C2C=C(C=CC2=NN1)C3=CC(=CN=C3)OCC(CC4=CC=CC...</td>\n      <td>PFWKILNPLLERGTYYYFMGQQPGKVLGDQRRPSLPALHFIKGAGK...</td>\n      <td>4.999995657076895</td>\n    </tr>\n    <tr>\n      <th>...</th>\n      <td>...</td>\n      <td>...</td>\n      <td>...</td>\n    </tr>\n    <tr>\n      <th>96495</th>\n      <td>CC(C)(C)C[C@@H]1N[C@H]([C@H](C2CCCC(CL)C2F)[C@...</td>\n      <td>MCNTNMSVPTDGAVTTSQIPASEQETLVRPKPLLLKLLKSVGAQKD...</td>\n      <td>8.55284196865778</td>\n    </tr>\n    <tr>\n      <th>96496</th>\n      <td>CC[C@@H]([C@H](C)O)N1[C@@H]([C@H](C[C@](C)(CC(...</td>\n      <td>MCNTNMSVPTDGAVTTSQIPASEQETLVRPKPLLLKLLKSVGAQKD...</td>\n      <td>9.301029995663981</td>\n    </tr>\n    <tr>\n      <th>96497</th>\n      <td>CC(C)[C@@H](CS(=O)(=O)C(C)C)N1[C@@H]([C@H](C[C...</td>\n      <td>MCNTNMSVPTDGAVTTSQIPASEQETLVRPKPLLLKLLKSVGAQKD...</td>\n      <td>9.838631997765026</td>\n    </tr>\n    <tr>\n      <th>96498</th>\n      <td>CCCCCCCOC1OC(CO)C(O)C(O)C1O</td>\n      <td>MKRVITLFAVLLMGWSVNAWSFACKTANGTAIPIGGGSANVYVNLA...</td>\n      <td>7.767003889607846</td>\n    </tr>\n    <tr>\n      <th>96499</th>\n      <td>CCCCCCCOC1OC(CO)C(O)C(O)C1O</td>\n      <td>MKRVITLFAVLLMGWSVNAWSFACKTANGTAIPIGGGSANVYVNLA...</td>\n      <td>7.718966632752273</td>\n    </tr>\n  </tbody>\n</table>\n<p>96500 rows × 3 columns</p>\n</div>"
     },
     "metadata": {},
     "execution_count": 6
    }
   ],
   "source": [
    "all_data = pd.DataFrame(data=np.transpose(np.stack([X_drug, X_target, y])))\n",
    "all_data"
   ]
  },
  {
   "cell_type": "code",
   "execution_count": 7,
   "metadata": {},
   "outputs": [
    {
     "output_type": "execute_result",
     "data": {
      "text/plain": [
       "                                                       0  \\\n",
       "0      CC1=C2C=C(C=CC2=NN1)C3=CC(=CN=C3)OCC(CC4=CC=CC...   \n",
       "1      CC1=C2C=C(C=CC2=NN1)C3=CC(=CN=C3)OCC(CC4=CC=CC...   \n",
       "16     CC1=C2C=C(C=CC2=NN1)C3=CC(=CN=C3)OCC(CC4=CC=CC...   \n",
       "17     CC1=C2C=C(C=CC2=NN1)C3=CC(=CN=C3)OCC(CC4=CC=CC...   \n",
       "18     CC1=C2C=C(C=CC2=NN1)C3=CC(=CN=C3)OCC(CC4=CC=CC...   \n",
       "...                                                  ...   \n",
       "96492           O=C(NCCCCS(=O)(=O)C1CCCCC1)C1CCC2NCCN2C1   \n",
       "96493  CCOC1CC(CCC1C1=N[C@@](C)(C2CCC(CL)CC2)[C@](C)(...   \n",
       "96494  COC1CC(CCC1NC(=O)[C@@H]1N[C@@H](CC(C)(C)C)[C@@...   \n",
       "96495  CC(C)(C)C[C@@H]1N[C@H]([C@H](C2CCCC(CL)C2F)[C@...   \n",
       "96497  CC(C)[C@@H](CS(=O)(=O)C(C)C)N1[C@@H]([C@H](C[C...   \n",
       "\n",
       "                                                       1                   2  \n",
       "0      MKKFFDSRREQGGSGLGSGSSGGGGSTSGLGSGYIGRVFGIGRQQV...  7.3655227298392685  \n",
       "1      PFWKILNPLLERGTYYYFMGQQPGKVLGDQRRPSLPALHFIKGAGK...   4.999995657076895  \n",
       "16     MVLGTVLLPPNSYGRDQDTSLCCLCTEASESALPDLTDHFASCVED...   4.999995657076895  \n",
       "17     MVDGVMILPVLIMIALPSPSMEDEKPKVNPKLYMCVCEGLSCGNED...   4.999995657076895  \n",
       "18     MAESAGASSFFPLVVLLLAGSGGSGPRGVQALLCACTSCLQANYTC...   4.999995657076895  \n",
       "...                                                  ...                 ...  \n",
       "96492  MNPAAEAEFNILLATDSYKVTHYKQYPPNTSKVYSYFECREKKTEN...   6.065451052333853  \n",
       "96493  MCNTNMSVPTDGAVTTSQIPASEQETLVRPKPLLLKLLKSVGAQKD...   8.522878745280337  \n",
       "96494  MCNTNMSVPTDGAVTTSQIPASEQETLVRPKPLLLKLLKSVGAQKD...   9.602059991327963  \n",
       "96495  MCNTNMSVPTDGAVTTSQIPASEQETLVRPKPLLLKLLKSVGAQKD...    8.55284196865778  \n",
       "96497  MCNTNMSVPTDGAVTTSQIPASEQETLVRPKPLLLKLLKSVGAQKD...   9.838631997765026  \n",
       "\n",
       "[71845 rows x 3 columns]"
      ],
      "text/html": "<div>\n<style scoped>\n    .dataframe tbody tr th:only-of-type {\n        vertical-align: middle;\n    }\n\n    .dataframe tbody tr th {\n        vertical-align: top;\n    }\n\n    .dataframe thead th {\n        text-align: right;\n    }\n</style>\n<table border=\"1\" class=\"dataframe\">\n  <thead>\n    <tr style=\"text-align: right;\">\n      <th></th>\n      <th>0</th>\n      <th>1</th>\n      <th>2</th>\n    </tr>\n  </thead>\n  <tbody>\n    <tr>\n      <th>0</th>\n      <td>CC1=C2C=C(C=CC2=NN1)C3=CC(=CN=C3)OCC(CC4=CC=CC...</td>\n      <td>MKKFFDSRREQGGSGLGSGSSGGGGSTSGLGSGYIGRVFGIGRQQV...</td>\n      <td>7.3655227298392685</td>\n    </tr>\n    <tr>\n      <th>1</th>\n      <td>CC1=C2C=C(C=CC2=NN1)C3=CC(=CN=C3)OCC(CC4=CC=CC...</td>\n      <td>PFWKILNPLLERGTYYYFMGQQPGKVLGDQRRPSLPALHFIKGAGK...</td>\n      <td>4.999995657076895</td>\n    </tr>\n    <tr>\n      <th>16</th>\n      <td>CC1=C2C=C(C=CC2=NN1)C3=CC(=CN=C3)OCC(CC4=CC=CC...</td>\n      <td>MVLGTVLLPPNSYGRDQDTSLCCLCTEASESALPDLTDHFASCVED...</td>\n      <td>4.999995657076895</td>\n    </tr>\n    <tr>\n      <th>17</th>\n      <td>CC1=C2C=C(C=CC2=NN1)C3=CC(=CN=C3)OCC(CC4=CC=CC...</td>\n      <td>MVDGVMILPVLIMIALPSPSMEDEKPKVNPKLYMCVCEGLSCGNED...</td>\n      <td>4.999995657076895</td>\n    </tr>\n    <tr>\n      <th>18</th>\n      <td>CC1=C2C=C(C=CC2=NN1)C3=CC(=CN=C3)OCC(CC4=CC=CC...</td>\n      <td>MAESAGASSFFPLVVLLLAGSGGSGPRGVQALLCACTSCLQANYTC...</td>\n      <td>4.999995657076895</td>\n    </tr>\n    <tr>\n      <th>...</th>\n      <td>...</td>\n      <td>...</td>\n      <td>...</td>\n    </tr>\n    <tr>\n      <th>96492</th>\n      <td>O=C(NCCCCS(=O)(=O)C1CCCCC1)C1CCC2NCCN2C1</td>\n      <td>MNPAAEAEFNILLATDSYKVTHYKQYPPNTSKVYSYFECREKKTEN...</td>\n      <td>6.065451052333853</td>\n    </tr>\n    <tr>\n      <th>96493</th>\n      <td>CCOC1CC(CCC1C1=N[C@@](C)(C2CCC(CL)CC2)[C@](C)(...</td>\n      <td>MCNTNMSVPTDGAVTTSQIPASEQETLVRPKPLLLKLLKSVGAQKD...</td>\n      <td>8.522878745280337</td>\n    </tr>\n    <tr>\n      <th>96494</th>\n      <td>COC1CC(CCC1NC(=O)[C@@H]1N[C@@H](CC(C)(C)C)[C@@...</td>\n      <td>MCNTNMSVPTDGAVTTSQIPASEQETLVRPKPLLLKLLKSVGAQKD...</td>\n      <td>9.602059991327963</td>\n    </tr>\n    <tr>\n      <th>96495</th>\n      <td>CC(C)(C)C[C@@H]1N[C@H]([C@H](C2CCCC(CL)C2F)[C@...</td>\n      <td>MCNTNMSVPTDGAVTTSQIPASEQETLVRPKPLLLKLLKSVGAQKD...</td>\n      <td>8.55284196865778</td>\n    </tr>\n    <tr>\n      <th>96497</th>\n      <td>CC(C)[C@@H](CS(=O)(=O)C(C)C)N1[C@@H]([C@H](C[C...</td>\n      <td>MCNTNMSVPTDGAVTTSQIPASEQETLVRPKPLLLKLLKSVGAQKD...</td>\n      <td>9.838631997765026</td>\n    </tr>\n  </tbody>\n</table>\n<p>71845 rows × 3 columns</p>\n</div>"
     },
     "metadata": {},
     "execution_count": 7
    }
   ],
   "source": [
    "# Keep DAVIS version if duplicates exist\n",
    "all_data = all_data.drop_duplicates(subset=[0, 1], keep='first')\n",
    "all_data"
   ]
  },
  {
   "cell_type": "code",
   "execution_count": 8,
   "metadata": {},
   "outputs": [
    {
     "output_type": "stream",
     "name": "stdout",
     "text": [
      "Drug Target Interaction Prediction Mode...\n",
      "in total: 71845 drug-target pairs\n",
      "encoding drug...\n",
      "unique drugs: 10685\n",
      "encoding protein...\n",
      "unique target sequence: 1449\n",
      "splitting dataset...\n",
      "Done.\n",
      "First drug representation: \n",
      "(array([ 800,  122,  248,  282,  623,  272, 1256, 2210,   91,   85,  109,\n",
      "        119,   80,    8,  282,  861,  209,   19,    0,    0,    0,    0,\n",
      "          0,    0,    0,    0,    0,    0,    0,    0,    0,    0,    0,\n",
      "          0,    0,    0,    0,    0,    0,    0,    0,    0,    0,    0,\n",
      "          0,    0,    0,    0,    0,    0]), array([1, 1, 1, 1, 1, 1, 1, 1, 1, 1, 1, 1, 1, 1, 1, 1, 1, 1, 0, 0, 0, 0,\n",
      "       0, 0, 0, 0, 0, 0, 0, 0, 0, 0, 0, 0, 0, 0, 0, 0, 0, 0, 0, 0, 0, 0,\n",
      "       0, 0, 0, 0, 0, 0]))\n",
      "First target representation: \n",
      "[ 839  167  106   61  277  447  291 2515   32  447   94  291   45 1607\n",
      "  200   87   67 1491   69  495 2820   32 1251  677   84   94   81  227\n",
      " 1684  110  301   97  121 1429 3640  927  144 3875 3718 2624  558 1464\n",
      "   33   92  320   33  319 3157   28   38  171    3  328   32  869   55\n",
      "  202  581 1494 1412  121   28 1937    4  221  237   39  265  313  440\n",
      "  109  122  283   36  733  210   25  261   78  315   28  303  705   59\n",
      " 1942 2078   13  698   97  423   75  620  272  453  257  387  324   55\n",
      " 1187  140   79  181   49  369  251 1163 1357    4  262  616   87  189\n",
      "  253   46 2151 2604 1378  126 1923  156  421  142   95   12  818  128\n",
      "  128  110  128  157 1244 1722  239   25  532  246  101 2015 1818  101\n",
      "  285 1460   74  514   26  307 2004   15  265 1602  101 1021   94 1031\n",
      " 1284  280   41  205  163 1507  712  144  768  109 1009   59  120  115\n",
      "  282  236   33  288   63 2779   90  163  133 1577   76  991  282  172\n",
      "   53  163   13  872  109   98  921  172   72  412 3778  853  234 3813\n",
      "   56   15  638   98   13  715   72   98  983  147   12  638   72 1715\n",
      "  311   39  175   59 1938   46   72  178   42  276  447 3813 2686  204\n",
      " 2329  638  673   59 1485 3813  226   98  183   98  133  318  236 1875\n",
      "  163  163 2347  163   83   72  249   46 1577   84   98  280  120   85\n",
      "  715   39  105  196   58   31 1372  691  116  136   41 1661   38  165\n",
      "   69  158   39   87   90   50  103  172   25  522  332  248 1425  103\n",
      " 3990 1006  179 1369   98 2127 1383  146  238 3190 1261  235   99   40\n",
      " 3302  628  112    3 2711  146  211   65   40  447   43   31  857 1947\n",
      " 1440   21   80   59   94   99   41  606  110  720  205  672  412  323\n",
      "   64  177  232   47   13 1292  387 2937   29  103  128   94  194  128\n",
      "   25  399 1602  705 1145 3730  889  380    8   31  101  417  115   90\n",
      "  581   76   13 1092  646  242  127   31  442  106  348  203  323  143\n",
      "   85  478   34 1341    7  598   83  148   15  332  106   55  596  123\n",
      "    6  406  165  206   43   75 1501  101   28   79  111  282   32  158\n",
      "  162  349   33  189  471   55  707  194   62   51   68    9    0    0\n",
      "    0    0    0    0    0    0    0    0    0    0    0    0    0    0\n",
      "    0    0    0    0    0    0    0    0    0    0    0    0    0    0\n",
      "    0    0    0    0    0    0    0    0    0    0    0    0    0    0\n",
      "    0    0    0    0    0    0    0    0    0    0    0    0    0    0\n",
      "    0    0    0    0    0    0    0    0    0    0    0    0    0    0\n",
      "    0    0    0    0    0    0    0    0    0    0    0    0    0    0\n",
      "    0    0    0    0    0    0    0    0    0    0    0    0    0    0\n",
      "    0    0    0    0    0    0    0    0    0    0    0    0    0    0\n",
      "    0    0    0    0    0    0    0    0    0    0    0    0    0    0\n",
      "    0    0    0    0    0    0    0    0    0    0    0    0    0]\n"
     ]
    }
   ],
   "source": [
    "drug_encoding, target_encoding = 'Transformer', 'CNN_inspire'\n",
    "#ensure none of test smiles appears in set\n",
    "train, val, test  = data_process(all_data[0].to_numpy(), all_data[1].to_numpy(), y, \n",
    "                      drug_encoding, target_encoding, \n",
    "                      split_method='cold_protein',frac=[0.8,0.1,0.1],\n",
    "                      cnn_inspire_use_transformer_embedding=True,\n",
    "                      random_seed = 42)\n",
    "# train.head()\n",
    "print(f\"First drug representation: \\n{train.drug_encoding.iloc[0]}\")\n",
    "print(f\"First target representation: \\n{train.target_encoding.iloc[0]}\")"
   ]
  },
  {
   "cell_type": "code",
   "execution_count": 9,
   "metadata": {},
   "outputs": [],
   "source": [
    "train.to_pickle(data_folder + 'G35_data_train_t_emb.pkl')\n",
    "val.to_pickle(data_folder + 'G35_data_vali_t_emb.pkl')\n",
    "test.to_pickle(data_folder + 'G35_data_test_t_emb.pkl')"
   ]
  },
  {
   "cell_type": "code",
   "execution_count": null,
   "metadata": {},
   "outputs": [],
   "source": []
  }
 ]
}