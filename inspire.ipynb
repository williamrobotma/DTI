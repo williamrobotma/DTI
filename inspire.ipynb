{
 "metadata": {
  "language_info": {
   "codemirror_mode": {
    "name": "ipython",
    "version": 3
   },
   "file_extension": ".py",
   "mimetype": "text/x-python",
   "name": "python",
   "nbconvert_exporter": "python",
   "pygments_lexer": "ipython3",
   "version": "3.7.9-final"
  },
  "orig_nbformat": 2,
  "kernelspec": {
   "name": "python3",
   "display_name": "Python 3"
  }
 },
 "nbformat": 4,
 "nbformat_minor": 2,
 "cells": [
  {
   "cell_type": "code",
   "execution_count": 1,
   "metadata": {},
   "outputs": [],
   "source": [
    "from DeepPurpose.dataset import *\n",
    "import DTI_inspire as models\n",
    "import matplotlib.pyplot as plt\n",
    "import pandas as pd\n",
    "from utils_inspire import *"
   ]
  },
  {
   "cell_type": "code",
   "execution_count": 2,
   "metadata": {},
   "outputs": [
    {
     "output_type": "stream",
     "name": "stdout",
     "text": [
      "Beginning Processing...\n",
      "Beginning to extract zip file...\n",
      "Default binary threshold for the binding affinity scores are 30, you can adjust it by using the \"threshold\" parameter\n",
      "Done!\n"
     ]
    }
   ],
   "source": [
    "X_drug, X_target, y  = load_process_DAVIS(path = './data', binary = True, convert_to_log = True, threshold = 30)"
   ]
  },
  {
   "cell_type": "code",
   "execution_count": 3,
   "metadata": {},
   "outputs": [
    {
     "output_type": "stream",
     "name": "stdout",
     "text": [
      "Drug Target Interaction Prediction Mode...\n",
      "in total: 30056 drug-target pairs\n",
      "encoding drug...\n",
      "unique drugs: 68\n",
      "encoding protein...\n",
      "unique target sequence: 379\n",
      "splitting dataset...\n",
      "Done.\n",
      "First SMILE representation: \n",
      "['C', 'C', '(', 'C', ')', '(', 'C', ')', 'C', '1', '=', 'C', 'C', '(', '=', 'N', 'O', '1', ')', 'N', 'C', '(', '=', 'O', ')', 'N', 'C', '2', '=', 'C', 'C', '=', 'C', '(', 'C', '=', 'C', '2', ')', 'C', '3', '=', 'C', 'N', '4', 'C', '5', '=', 'C', '(', 'C', '=', 'C', '(', 'C', '=', 'C', '5', ')', 'O', 'C', 'C', 'N', '6', 'C', 'C', 'O', 'C', 'C', '6', ')', 'S', 'C', '4', '=', 'N', '3', '?', '?', '?', '?', '?', '?', '?', '?', '?', '?', '?', '?', '?', '?', '?', '?', '?', '?', '?', '?', '?', '?', '?']\n",
      "First target representation: \n",
      "[11 18 18 ...  0  0  0]\n"
     ]
    }
   ],
   "source": [
    "drug_encoding, target_encoding = 'CNN', 'CNN_inspire'\n",
    "#ensure none of test smiles appears in set\n",
    "train, val, test  = data_process(X_drug, X_target, y, \n",
    "                      drug_encoding, target_encoding, \n",
    "                      split_method='cold_drug',frac=[0.6,0.2,0.2],\n",
    "                      random_seed = 42)\n",
    "# train.head()\n",
    "print(f\"First SMILE representation: \\n{train.drug_encoding.iloc[0]}\")\n",
    "print(f\"First target representation: \\n{train.target_encoding.iloc[0]}\")"
   ]
  },
  {
   "cell_type": "code",
   "execution_count": 5,
   "metadata": {},
   "outputs": [
    {
     "output_type": "execute_result",
     "data": {
      "text/plain": [
       "tensor([[1.2494, 0.5707, 0.0000, 0.0000, 0.0000, 0.0000, 1.2316, 0.0000, 1.2302,\n",
       "         0.0000, 1.2405, 1.1035, 0.0000, 1.2489, 0.0000, 1.2456, 0.0000, 1.2469,\n",
       "         0.0000, 0.0000, 0.0000, 1.2397, 1.0522, 0.0000, 1.2486, 1.2272, 0.0000,\n",
       "         0.0000, 0.0000, 1.1908, 1.2447, 0.0000, 1.2444, 0.0000, 0.0000, 0.0000,\n",
       "         0.0000, 1.2362, 0.0000, 1.2443, 0.0000, 0.0000, 0.0000, 0.0000, 0.0000,\n",
       "         0.2491, 1.2493, 1.2445, 0.0000, 0.0000, 1.2243, 1.2426, 1.2394, 0.0000,\n",
       "         0.0000, 0.0000, 0.0000, 1.2311, 1.2472, 0.7752, 0.0000, 0.0000, 1.0998,\n",
       "         0.0000, 1.2492, 0.0000, 0.7894, 1.2465, 1.2425, 0.0000, 0.0000, 0.0000,\n",
       "         0.0000, 1.2451, 0.0000, 1.2437, 0.0000, 1.2486, 0.0000, 0.0000, 0.0000,\n",
       "         1.2488, 1.2106, 1.2478, 0.0000, 1.1251, 1.2475, 0.0000, 1.2413, 0.0000,\n",
       "         0.0000, 1.1749, 1.2462, 1.2477, 0.0000, 1.2486, 0.0000, 1.2454, 0.0000,\n",
       "         0.0000, 0.0000, 0.0000, 1.2463, 1.1953, 0.0000, 1.0806, 0.0000, 1.2474,\n",
       "         0.0000, 0.0000, 1.2476, 0.0000, 0.0000, 1.0302, 0.0000, 1.2273, 0.0000,\n",
       "         0.2321, 0.0000, 1.2464, 0.0000, 1.2480, 1.2459, 1.2368, 0.0000, 0.0000,\n",
       "         1.2484, 0.0000],\n",
       "        [0.0000, 0.0000, 0.0000, 1.1531, 0.3239, 0.0000, 0.0000, 1.2429, 0.0000,\n",
       "         1.2469, 0.0000, 0.0000, 0.0000, 0.0000, 0.0000, 0.0000, 0.0000, 0.0000,\n",
       "         1.2469, 1.2459, 1.2459, 0.0000, 0.0000, 1.2319, 0.0000, 0.0000, 0.0000,\n",
       "         1.2388, 1.2484, 0.0000, 0.0000, 0.0000, 0.0000, 1.2476, 1.2484, 1.2355,\n",
       "         1.2051, 0.0000, 0.0000, 0.0000, 0.0000, 0.0000, 1.2482, 1.2487, 1.2470,\n",
       "         0.0000, 0.0000, 0.0000, 1.2111, 0.0000, 0.0000, 0.0000, 0.0000, 0.0000,\n",
       "         1.1632, 1.2307, 1.2435, 0.0000, 0.0000, 0.0000, 1.2377, 1.2488, 0.0000,\n",
       "         1.2315, 0.0000, 1.1779, 0.0000, 0.0000, 0.0000, 0.0000, 0.0000, 0.0000,\n",
       "         1.2344, 0.0000, 0.0000, 0.0000, 1.2477, 0.0000, 0.0000, 1.2386, 1.2012,\n",
       "         0.0000, 0.0000, 0.0000, 1.2386, 0.0000, 0.0000, 1.2242, 0.0000, 1.2465,\n",
       "         0.0000, 0.0000, 0.0000, 0.0000, 1.2481, 0.0000, 0.0000, 0.0000, 0.0000,\n",
       "         0.0000, 1.2053, 0.1174, 0.0000, 0.0000, 1.2252, 0.0000, 1.0349, 0.0000,\n",
       "         1.2487, 1.2317, 0.0000, 0.0000, 1.2482, 0.0000, 1.2491, 0.0000, 0.0000,\n",
       "         0.0000, 1.1469, 0.0000, 1.2451, 0.0000, 0.0000, 0.0000, 1.2345, 0.0000,\n",
       "         0.0000, 1.2479]], device='cuda:0', grad_fn=<FusedDropoutBackward>)"
      ]
     },
     "metadata": {},
     "execution_count": 5
    }
   ],
   "source": [
    "from inspire_encoder import InspireEncoder\n",
    "config = {'inspire_activation': 'relu',\n",
    "            'CNN_inspire_filters': 128,\n",
    "            'protein_strides': [10, 15, 20, 25, 30],\n",
    "            'inspire_dropout': 0.2,\n",
    "            'protein_layers': [128] }\n",
    "encoder = DeepConvDTI(**config)\n",
    "if torch.cuda.is_available():\n",
    "    encoder.cuda() \n",
    "encoder(torch.from_numpy(np.vstack(train.target_encoding.values[0:2])))"
   ]
  },
  {
   "cell_type": "code",
   "execution_count": null,
   "metadata": {},
   "outputs": [],
   "source": []
  }
 ]
}