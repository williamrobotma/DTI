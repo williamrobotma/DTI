{
 "metadata": {
  "language_info": {
   "codemirror_mode": {
    "name": "ipython",
    "version": 3
   },
   "file_extension": ".py",
   "mimetype": "text/x-python",
   "name": "python",
   "nbconvert_exporter": "python",
   "pygments_lexer": "ipython3",
   "version": "3.7.9-final"
  },
  "orig_nbformat": 2,
  "kernelspec": {
   "name": "python3",
   "display_name": "Python 3"
  }
 },
 "nbformat": 4,
 "nbformat_minor": 2,
 "cells": [
  {
   "cell_type": "code",
   "execution_count": 1,
   "metadata": {},
   "outputs": [],
   "source": [
    "from DeepPurpose.dataset import *\n",
    "import DTI_inspire as models\n",
    "import matplotlib.pyplot as plt\n",
    "import pandas as pd\n",
    "from utils_inspire import *"
   ]
  },
  {
   "cell_type": "code",
   "execution_count": 2,
   "metadata": {},
   "outputs": [
    {
     "output_type": "stream",
     "name": "stdout",
     "text": [
      "Beginning Processing...\n",
      "Beginning to extract zip file...\n",
      "Default binary threshold for the binding affinity scores are 30, you can adjust it by using the \"threshold\" parameter\n",
      "Done!\n"
     ]
    }
   ],
   "source": [
    "X_drug, X_target, y  = load_process_DAVIS(path = './data', binary = True, convert_to_log = True, threshold = 30)"
   ]
  },
  {
   "cell_type": "code",
   "execution_count": 3,
   "metadata": {},
   "outputs": [
    {
     "output_type": "stream",
     "name": "stdout",
     "text": [
      "Drug Target Interaction Prediction Mode...\n",
      "in total: 30056 drug-target pairs\n",
      "encoding drug...\n",
      "unique drugs: 68\n",
      "encoding protein...\n",
      "unique target sequence: 379\n",
      "splitting dataset...\n",
      "Done.\n",
      "First SMILE representation: \n",
      "['C', 'C', '(', 'C', ')', '(', 'C', ')', 'C', '1', '=', 'C', 'C', '(', '=', 'N', 'O', '1', ')', 'N', 'C', '(', '=', 'O', ')', 'N', 'C', '2', '=', 'C', 'C', '=', 'C', '(', 'C', '=', 'C', '2', ')', 'C', '3', '=', 'C', 'N', '4', 'C', '5', '=', 'C', '(', 'C', '=', 'C', '(', 'C', '=', 'C', '5', ')', 'O', 'C', 'C', 'N', '6', 'C', 'C', 'O', 'C', 'C', '6', ')', 'S', 'C', '4', '=', 'N', '3', '?', '?', '?', '?', '?', '?', '?', '?', '?', '?', '?', '?', '?', '?', '?', '?', '?', '?', '?', '?', '?', '?', '?']\n",
      "First target representation: \n",
      "[11 18 18 ...  0  0  0]\n"
     ]
    }
   ],
   "source": [
    "drug_encoding, target_encoding = 'CNN', 'CNN_inspire'\n",
    "#ensure none of test smiles appears in set\n",
    "train, val, test  = data_process(X_drug, X_target, y, \n",
    "                      drug_encoding, target_encoding, \n",
    "                      split_method='cold_drug',frac=[0.6,0.2,0.2],\n",
    "                      random_seed = 42)\n",
    "# train.head()\n",
    "print(f\"First SMILE representation: \\n{train.drug_encoding.iloc[0]}\")\n",
    "print(f\"First target representation: \\n{train.target_encoding.iloc[0]}\")"
   ]
  },
  {
   "cell_type": "code",
   "execution_count": 4,
   "metadata": {},
   "outputs": [
    {
     "output_type": "execute_result",
     "data": {
      "text/plain": [
       "tensor([[0.0000, 0.0000, 0.0000, 1.2484, 0.5964, 1.2426, 0.0000, 1.2486, 1.2487,\n",
       "         0.0000, 0.0000, 0.0000, 1.2297, 0.0000, 1.1825, 0.0000, 1.2410, 0.0000,\n",
       "         0.0000, 0.0000, 0.0000, 0.0000, 0.0000, 1.2478, 1.2470, 0.0000, 0.0000,\n",
       "         1.2474, 0.0000, 0.0000, 0.0000, 0.0000, 0.0000, 0.0000, 1.2242, 1.2440,\n",
       "         0.0000, 0.0000, 1.2190, 0.0000, 1.1349, 1.2479, 1.2486, 0.0000, 0.0000,\n",
       "         1.2488, 1.2485, 1.2102, 0.0000, 0.0000, 0.0000, 0.0000, 1.0943, 0.0000,\n",
       "         0.0000, 0.0000, 0.0000, 0.0000, 1.2479, 0.0000, 0.0000, 0.0000, 0.0000,\n",
       "         0.0000, 1.2066, 0.0000, 0.3977, 1.2436, 1.2483, 1.2241, 1.2460, 1.2485,\n",
       "         0.0000, 0.0000, 0.0000, 0.0000, 0.9710, 0.0000, 0.0000, 0.0000, 1.2468,\n",
       "         1.2323, 1.1570, 1.2411, 0.0000, 0.0000, 1.2420, 0.0000, 0.0000, 1.2472,\n",
       "         0.0000, 0.0000, 1.2403, 0.0000, 0.0000, 1.2420, 1.2479, 0.0000, 1.2399,\n",
       "         1.2491, 1.2489, 0.0000, 0.0000, 1.2353, 1.2436, 0.0000, 0.0000, 0.0000,\n",
       "         0.0000, 0.0000, 0.0000, 1.2451, 0.0000, 0.0000, 0.0000, 0.0000, 0.0000,\n",
       "         0.0000, 1.2301, 0.0000, 0.0000, 0.0000, 0.0000, 1.1644, 1.1797, 1.2432,\n",
       "         0.0000, 0.0000],\n",
       "        [1.2492, 1.2485, 1.2477, 0.0000, 0.0000, 0.0000, 1.1491, 0.0000, 0.0000,\n",
       "         0.9477, 1.2129, 1.1340, 0.0000, 1.2456, 0.0000, 1.2472, 0.0000, 1.2381,\n",
       "         1.2372, 1.2429, 1.2338, 1.2225, 1.2370, 0.0000, 0.0000, 1.2430, 0.0000,\n",
       "         0.0000, 0.0000, 0.0000, 0.0000, 1.2448, 1.2234, 1.2365, 0.0000, 0.0000,\n",
       "         1.0249, 0.0000, 0.0000, 0.1189, 0.0000, 0.0000, 0.0000, 0.0000, 1.2458,\n",
       "         0.0000, 0.0000, 0.0000, 1.2106, 1.2414, 0.0000, 0.0000, 0.0000, 1.1464,\n",
       "         1.2454, 0.0000, 0.0000, 1.2477, 0.0000, 1.0762, 0.0000, 1.2463, 1.2490,\n",
       "         0.0000, 0.0000, 1.2458, 0.0000, 0.0000, 0.0000, 0.0000, 0.0000, 0.0000,\n",
       "         1.2437, 0.0000, 1.2190, 1.2487, 0.0000, 0.0000, 1.0725, 0.0000, 0.0000,\n",
       "         0.0000, 0.0000, 0.0000, 1.2451, 1.0561, 0.0000, 1.2486, 1.2420, 0.0000,\n",
       "         0.0870, 1.2454, 0.0000, 1.2443, 0.0000, 0.0000, 0.0000, 0.3179, 0.0000,\n",
       "         0.0000, 0.0000, 0.0000, 1.2437, 0.0000, 0.0000, 1.2485, 1.2449, 1.2481,\n",
       "         0.3388, 1.2488, 1.2487, 0.0000, 1.2467, 1.2441, 1.2478, 1.2273, 1.2060,\n",
       "         1.1948, 0.0000, 1.2430, 0.0000, 1.0757, 0.0000, 0.0000, 0.0000, 0.0000,\n",
       "         0.0000, 1.2490]], device='cuda:0', grad_fn=<FusedDropoutBackward>)"
      ]
     },
     "metadata": {},
     "execution_count": 4
    }
   ],
   "source": [
    "from inspire_encoder import InspireEncoder\n",
    "config = {'inspire_activation': 'relu',\n",
    "            'CNN_inspire_filters': 128,\n",
    "            'protein_strides': [10, 15, 20, 25, 30],\n",
    "            'inspire_dropout': 0.2,\n",
    "            'protein_layers': [128] }\n",
    "encoder = InspireEncoder(**config)\n",
    "if torch.cuda.is_available():\n",
    "    encoder.cuda() \n",
    "encoder(torch.from_numpy(np.vstack(train.target_encoding.values[0:2])))"
   ]
  },
  {
   "cell_type": "code",
   "execution_count": null,
   "metadata": {},
   "outputs": [],
   "source": []
  }
 ]
}