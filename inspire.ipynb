{
 "metadata": {
  "language_info": {
   "codemirror_mode": {
    "name": "ipython",
    "version": 3
   },
   "file_extension": ".py",
   "mimetype": "text/x-python",
   "name": "python",
   "nbconvert_exporter": "python",
   "pygments_lexer": "ipython3",
   "version": "3.7.9-final"
  },
  "orig_nbformat": 2,
  "kernelspec": {
   "name": "python3",
   "display_name": "Python 3"
  }
 },
 "nbformat": 4,
 "nbformat_minor": 2,
 "cells": [
  {
   "cell_type": "code",
   "execution_count": 1,
   "metadata": {},
   "outputs": [],
   "source": [
    "import os\n",
    "\n",
    "from DeepPurpose.dataset import *\n",
    "import DTI_inspire as models\n",
    "import matplotlib.pyplot as plt\n",
    "import pandas as pd\n",
    "from utils_inspire import *"
   ]
  },
  {
   "cell_type": "code",
   "execution_count": 2,
   "metadata": {},
   "outputs": [
    {
     "output_type": "stream",
     "name": "stdout",
     "text": [
      "Beginning Processing...\n",
      "Beginning to extract zip file...\n",
      "Default set to logspace (nM -> p) for easier regression\n",
      "Done!\n",
      "Loading Dataset from path...\n",
      "b'Skipping line 772572: expected 193 fields, saw 205\\nSkipping line 772598: expected 193 fields, saw 205\\n'\n",
      "b'Skipping line 805291: expected 193 fields, saw 205\\n'\n",
      "b'Skipping line 827961: expected 193 fields, saw 265\\n'\n",
      "b'Skipping line 1231688: expected 193 fields, saw 241\\n'\n",
      "b'Skipping line 1345591: expected 193 fields, saw 241\\nSkipping line 1345592: expected 193 fields, saw 241\\nSkipping line 1345593: expected 193 fields, saw 241\\nSkipping line 1345594: expected 193 fields, saw 241\\nSkipping line 1345595: expected 193 fields, saw 241\\nSkipping line 1345596: expected 193 fields, saw 241\\nSkipping line 1345597: expected 193 fields, saw 241\\nSkipping line 1345598: expected 193 fields, saw 241\\nSkipping line 1345599: expected 193 fields, saw 241\\n'\n",
      "b'Skipping line 1358864: expected 193 fields, saw 205\\n'\n",
      "b'Skipping line 1378087: expected 193 fields, saw 241\\nSkipping line 1378088: expected 193 fields, saw 241\\nSkipping line 1378089: expected 193 fields, saw 241\\nSkipping line 1378090: expected 193 fields, saw 241\\nSkipping line 1378091: expected 193 fields, saw 241\\nSkipping line 1378092: expected 193 fields, saw 241\\nSkipping line 1378093: expected 193 fields, saw 241\\nSkipping line 1378094: expected 193 fields, saw 241\\nSkipping line 1378095: expected 193 fields, saw 241\\n'\n",
      "b'Skipping line 1417264: expected 193 fields, saw 205\\n'\n",
      "Beginning Processing...\n",
      "There are 66444 drug target pairs.\n",
      "Default set to logspace (nM -> p) for easier regression\n"
     ]
    }
   ],
   "source": [
    "X_drug, X_target, y  = load_process_DAVIS(path = './data', binary = False, convert_to_log = True, threshold = 30)\n",
    "\n",
    "if not os.path.isfile('./data/BindingDB_All.tsv'):\n",
    "    bdb_path = download_BindingDB(path = './data')\n",
    "else:\n",
    "    bdb_path = './data/BindingDB_All.tsv'\n",
    "X_drug2, X_target2, y2  = process_BindingDB(path = bdb_path, df = None, y = 'Kd', binary = False, convert_to_log = True, threshold = 30)"
   ]
  },
  {
   "cell_type": "code",
   "execution_count": 3,
   "metadata": {},
   "outputs": [],
   "source": [
    "# X_drug"
   ]
  },
  {
   "cell_type": "code",
   "execution_count": 4,
   "metadata": {},
   "outputs": [],
   "source": [
    "# X_drug2"
   ]
  },
  {
   "cell_type": "code",
   "execution_count": 5,
   "metadata": {},
   "outputs": [],
   "source": [
    "# X_target"
   ]
  },
  {
   "cell_type": "code",
   "execution_count": 6,
   "metadata": {},
   "outputs": [],
   "source": [
    "# X_target2"
   ]
  },
  {
   "cell_type": "code",
   "execution_count": 7,
   "metadata": {},
   "outputs": [],
   "source": [
    "# y"
   ]
  },
  {
   "cell_type": "code",
   "execution_count": 8,
   "metadata": {},
   "outputs": [],
   "source": [
    "# y2"
   ]
  },
  {
   "cell_type": "code",
   "execution_count": 9,
   "metadata": {},
   "outputs": [],
   "source": [
    "X_drug = np.concatenate((X_drug, X_drug2), axis=0)\n",
    "X_target = np.concatenate((X_target, X_target2), axis=0)\n",
    "y = np.concatenate((y, y2), axis=0)"
   ]
  },
  {
   "cell_type": "code",
   "execution_count": null,
   "metadata": {},
   "outputs": [],
   "source": []
  },
  {
   "cell_type": "code",
   "execution_count": 10,
   "metadata": {},
   "outputs": [
    {
     "output_type": "stream",
     "name": "stdout",
     "text": [
      "Drug Target Interaction Prediction Mode...\n",
      "in total: 96500 drug-target pairs\n",
      "encoding drug...\n",
      "unique drugs: 10733\n",
      "encoding protein...\n",
      "unique target sequence: 1449\n",
      "splitting dataset...\n",
      "Done.\n",
      "First SMILE representation: \n",
      "(array([1124, 1823,  229, 1925,  606,   38,  282,  248,   85,  258,  549,\n",
      "       1860,    6,  248,  248,   85,  333,  621, 1578,  650,  222, 1456,\n",
      "         52,    0,    0,    0,    0,    0,    0,    0,    0,    0,    0,\n",
      "          0,    0,    0,    0,    0,    0,    0,    0,    0,    0,    0,\n",
      "          0,    0,    0,    0,    0,    0]), array([1, 1, 1, 1, 1, 1, 1, 1, 1, 1, 1, 1, 1, 1, 1, 1, 1, 1, 1, 1, 1, 1,\n",
      "       1, 0, 0, 0, 0, 0, 0, 0, 0, 0, 0, 0, 0, 0, 0, 0, 0, 0, 0, 0, 0, 0,\n",
      "       0, 0, 0, 0, 0, 0]))\n",
      "First target representation: \n",
      "[11 18 18 ...  0  0  0]\n"
     ]
    }
   ],
   "source": [
    "drug_encoding, target_encoding = 'Transformer', 'CNN_inspire'\n",
    "#ensure none of test smiles appears in set\n",
    "train, val, test  = data_process(X_drug, X_target, y, \n",
    "                      drug_encoding, target_encoding, \n",
    "                      split_method='cold_drug',frac=[0.8,0.1,0.1],\n",
    "                      random_seed = 42)\n",
    "# train.head()\n",
    "print(f\"First SMILE representation: \\n{train.drug_encoding.iloc[0]}\")\n",
    "print(f\"First target representation: \\n{train.target_encoding.iloc[0]}\")"
   ]
  },
  {
   "cell_type": "code",
   "execution_count": null,
   "metadata": {},
   "outputs": [],
   "source": []
  },
  {
   "cell_type": "code",
   "execution_count": null,
   "metadata": {},
   "outputs": [],
   "source": []
  },
  {
   "cell_type": "code",
   "execution_count": 11,
   "metadata": {},
   "outputs": [
    {
     "output_type": "execute_result",
     "data": {
      "text/plain": [
       "tensor([[0.0000, 0.0000, 0.0000, 1.2491, 1.2353, 0.0000, 1.0360, 1.2484, 0.0000,\n",
       "         0.0000, 0.0000, 0.0000, 0.0000, 0.0000, 0.0000, 1.1016, 0.0000, 0.0000,\n",
       "         0.0000, 1.2245, 0.0000, 0.0000, 0.0000, 1.2481, 1.2483, 0.0000, 0.0000,\n",
       "         1.2437, 0.0000, 0.0000, 1.2441, 0.0000, 0.0000, 0.0000, 0.0000, 1.1707,\n",
       "         0.0000, 0.0000, 0.0000, 0.5771, 0.0000, 1.2461, 1.2488, 0.0000, 0.0000,\n",
       "         1.2463, 1.2486, 1.2452, 0.0000, 0.0000, 0.0000, 0.0000, 1.2427, 0.0000,\n",
       "         0.0000, 0.0000, 0.0000, 0.0000, 1.2494, 0.0000, 0.0000, 0.0000, 0.0000,\n",
       "         0.0000, 0.0000, 0.0000, 0.0000, 0.0000, 1.2476, 1.2484, 1.2293, 1.2451,\n",
       "         0.0000, 0.0000, 0.0000, 0.0000, 1.2426, 0.0000, 1.2285, 0.0000, 1.2467,\n",
       "         0.0000, 0.0000, 1.2424, 0.0000, 0.0000, 1.2397, 0.0000, 0.0000, 1.2486,\n",
       "         1.2428, 0.0000, 0.0000, 1.1842, 0.0000, 1.2463, 1.2480, 1.2422, 1.2473,\n",
       "         1.2457, 1.2473, 0.0000, 0.0000, 1.2430, 0.0000, 0.0000, 0.0000, 0.0000,\n",
       "         0.0000, 0.0000, 0.0000, 1.2447, 0.0000, 0.0000, 0.0000, 1.2295, 0.0000,\n",
       "         1.2406, 1.2465, 0.0000, 0.0000, 1.1982, 0.0000, 1.2396, 1.2351, 1.2451,\n",
       "         0.0000, 0.0000],\n",
       "        [1.2485, 1.2490, 0.7668, 0.0000, 0.0000, 1.0547, 0.0000, 0.0000, 0.0000,\n",
       "         1.2451, 1.2326, 1.2363, 1.2486, 0.0000, 1.2385, 0.0000, 1.1914, 1.2450,\n",
       "         1.2455, 0.0000, 1.2486, 1.2481, 0.0000, 0.0000, 0.0000, 1.2444, 0.0000,\n",
       "         0.0000, 0.0000, 0.0000, 0.0000, 1.2402, 1.0291, 1.2100, 0.0000, 0.0000,\n",
       "         1.2280, 0.0000, 1.2383, 0.0000, 1.1786, 0.0000, 0.0000, 0.0000, 1.2463,\n",
       "         0.0000, 0.0000, 0.0000, 1.2476, 1.2458, 1.2246, 0.0000, 0.0000, 1.2478,\n",
       "         1.2321, 0.0000, 0.0000, 1.2437, 0.0000, 0.0000, 1.2292, 1.2487, 1.2485,\n",
       "         0.0000, 1.1918, 1.2395, 1.2251, 1.2420, 0.0000, 0.0000, 0.0000, 0.0000,\n",
       "         1.2481, 0.0000, 1.2101, 1.2489, 0.0000, 0.0000, 0.0000, 0.7085, 0.0000,\n",
       "         0.5646, 1.2311, 0.0000, 1.1889, 1.2281, 0.0000, 0.9098, 1.2472, 0.0000,\n",
       "         0.0000, 1.2370, 1.2119, 0.0000, 0.0000, 0.0000, 0.0000, 0.0000, 0.0000,\n",
       "         0.0000, 0.0000, 0.0000, 1.2491, 0.0000, 1.2399, 1.2492, 1.2436, 1.2099,\n",
       "         1.2162, 1.2486, 1.2472, 0.0000, 1.2436, 1.2490, 1.2450, 0.0000, 1.2452,\n",
       "         0.0000, 0.0000, 1.2352, 0.0000, 0.0000, 0.0000, 0.0000, 0.0000, 0.0000,\n",
       "         0.0000, 1.2496]], device='cuda:0', grad_fn=<FusedDropoutBackward>)"
      ]
     },
     "metadata": {},
     "execution_count": 11
    }
   ],
   "source": [
    "from inspire_encoder import InspireEncoder\n",
    "config = {'inspire_activation': 'relu',\n",
    "            'CNN_inspire_filters': 128,\n",
    "            'protein_strides': [10, 15, 20, 25, 30],\n",
    "            'inspire_dropout': 0.2,\n",
    "            'protein_layers': [128] }\n",
    "model = InspireEncoder(**config)\n",
    "if torch.cuda.is_available():\n",
    "    model.cuda()\n",
    "\n",
    "\n",
    "model(torch.from_numpy(np.vstack(train.target_encoding.values[0:2])))"
   ]
  },
  {
   "cell_type": "code",
   "execution_count": 12,
   "metadata": {},
   "outputs": [],
   "source": [
    "config = generate_config(drug_encoding = drug_encoding, \n",
    "                         target_encoding = target_encoding, \n",
    "                         cls_hidden_dims = [1024,1024,512],  \n",
    "                         train_epoch = 100, \n",
    "                         LR = 0.0001, \n",
    "                         batch_size = 32,\n",
    "                         inspire_activation = 'elu',\n",
    "                         CNN_inspire_filters = 128,\n",
    "                         protein_strides = [10, 15, 20, 25, 30],\n",
    "                         inspire_dropout =  0,\n",
    "                         protein_layers =  [128],\n",
    "                         transformer_emb_size_drug = 128,\n",
    "                         transformer_intermediate_size_drug = 512,\n",
    "                         transformer_num_attention_heads_drug = 8,\n",
    "                         transformer_n_layer_drug = 8,\n",
    "                         transformer_dropout_rate = 0.1,\n",
    "                         transformer_attention_probs_dropout = 0.1,\n",
    "                         transformer_hidden_dropout_rate = 0.1\n",
    "                        )\n",
    "model = models.model_initialize(**config)\n",
    "# print(model)"
   ]
  },
  {
   "cell_type": "code",
   "execution_count": 13,
   "metadata": {
    "tags": []
   },
   "outputs": [
    {
     "output_type": "stream",
     "name": "stdout",
     "text": [
      "Let's use 1 GPU!\n",
      "--- Data Preparation ---\n",
      "--- Go for Training ---\n",
      "Training at Epoch 1 iteration 0 with loss 34.2808. Total time 0.00166 hours\n",
      "Training at Epoch 1 iteration 100 with loss 1.95892. Total time 0.16444 hours\n",
      "Training at Epoch 1 iteration 200 with loss 2.13474. Total time 0.33222 hours\n",
      "Training at Epoch 1 iteration 300 with loss 1.17350. Total time 0.49111 hours\n",
      "Training at Epoch 1 iteration 400 with loss 0.88284. Total time 0.6425 hours\n"
     ]
    }
   ],
   "source": [
    "model.train(train, val, test)"
   ]
  },
  {
   "cell_type": "code",
   "execution_count": 9,
   "metadata": {},
   "outputs": [],
   "source": [
    "model.save_model('models/second_trial_run')"
   ]
  },
  {
   "cell_type": "code",
   "execution_count": null,
   "metadata": {},
   "outputs": [],
   "source": []
  }
 ]
}