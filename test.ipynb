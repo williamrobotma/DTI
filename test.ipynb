{
 "metadata": {
  "language_info": {
   "codemirror_mode": {
    "name": "ipython",
    "version": 3
   },
   "file_extension": ".py",
   "mimetype": "text/x-python",
   "name": "python",
   "nbconvert_exporter": "python",
   "pygments_lexer": "ipython3",
   "version": "3.7.7-final"
  },
  "orig_nbformat": 2,
  "kernelspec": {
   "name": "python3",
   "display_name": "Python 3"
  }
 },
 "nbformat": 4,
 "nbformat_minor": 2,
 "cells": [
  {
   "cell_type": "code",
   "execution_count": 15,
   "metadata": {},
   "outputs": [],
   "source": [
    "import os\n",
    "\n",
    "from DeepPurpose.dataset import *\n",
    "import DTI_inspire as models\n",
    "import matplotlib.pyplot as plt\n",
    "import pandas as pd\n",
    "from utils_inspire import *\n",
    "from torch.utils.data import SequentialSampler\n",
    "from prettytable import PrettyTable\n",
    "\n",
    "train = pd.read_pickle('data/G35_data_train.pkl')\n",
    "val = pd.read_pickle('data/G35_data_vali.pkl')\n",
    "test = pd.read_pickle('data/G35_data_test.pkl')\n",
    "\n",
    "\n",
    "model = models.model_pretrained(path_dir=\"models/second_trial_run\")"
   ]
  },
  {
   "cell_type": "code",
   "execution_count": 16,
   "metadata": {},
   "outputs": [
    {
     "output_type": "execute_result",
     "data": {
      "text/plain": [
       "<DTI_inspire.DBTA at 0x7fa48b23a4d0>"
      ]
     },
     "metadata": {},
     "execution_count": 16
    }
   ],
   "source": [
    "model"
   ]
  },
  {
   "cell_type": "code",
   "execution_count": 17,
   "metadata": {},
   "outputs": [
    {
     "output_type": "execute_result",
     "data": {
      "text/plain": [
       "{'input_dim_drug': 2586,\n",
       " 'input_dim_protein': 8420,\n",
       " 'hidden_dim_drug': 128,\n",
       " 'hidden_dim_protein': 128,\n",
       " 'cls_hidden_dims': [1024, 1024, 512],\n",
       " 'batch_size': 64,\n",
       " 'train_epoch': 100,\n",
       " 'test_every_X_epoch': 20,\n",
       " 'LR': 0.0001,\n",
       " 'drug_encoding': 'Transformer',\n",
       " 'target_encoding': 'CNN_inspire',\n",
       " 'result_folder': './result/',\n",
       " 'binary': False,\n",
       " 'num_workers': 8,\n",
       " 'transformer_emb_size_drug': 128,\n",
       " 'transformer_num_attention_heads_drug': 8,\n",
       " 'transformer_intermediate_size_drug': 512,\n",
       " 'transformer_n_layer_drug': 8,\n",
       " 'transformer_dropout_rate': 0.1,\n",
       " 'transformer_attention_probs_dropout': 0.1,\n",
       " 'transformer_hidden_dropout_rate': 0.1,\n",
       " 'inspire_activation': 'elu',\n",
       " 'CNN_inspire_filters': 128,\n",
       " 'protein_strides': [10, 15, 20, 25, 30],\n",
       " 'inspire_dropout': 0,\n",
       " 'protein_layers': [128],\n",
       " 'decay': 0}"
      ]
     },
     "metadata": {},
     "execution_count": 17
    }
   ],
   "source": [
    "model.config"
   ]
  },
  {
   "cell_type": "code",
   "execution_count": 20,
   "metadata": {},
   "outputs": [
    {
     "output_type": "stream",
     "name": "stdout",
     "text": [
      "Testing MSE: 1.3332898783180298 , Pearson Correlation: 0.3028579974570897 with p-value: 9.310653684039609e-164 , Concordance Index: 0.6342781730294978\n"
     ]
    }
   ],
   "source": [
    "model.model.cuda()\n",
    "model.model.eval()\n",
    "\n",
    "info = data_process_loader(test.index.values, test.Label.values, test, **model.config)\n",
    "params_test = {'batch_size': model.config['batch_size'],\n",
    "        'shuffle': False,\n",
    "        'num_workers': model.config['num_workers'],\n",
    "        'drop_last': False,\n",
    "        'sampler':SequentialSampler(info)}\n",
    "\n",
    "if (model.drug_encoding == \"MPNN\"):\n",
    "    params_test['collate_fn'] = mpnn_collate_func\n",
    "testing_generator = data.DataLoader(data_process_loader(test.index.values, test.Label.values, test, **model.config),         **params_test)\n",
    "\n",
    "float2str = lambda x:'%0.4f'%x\n",
    "\n",
    "mse, r2, p_val, CI, logits = model.test_(testing_generator, model.model)\n",
    "test_table = PrettyTable([\"MSE\", \"Pearson Correlation\", \"with p-value\", \"Concordance Index\"])\n",
    "test_table.add_row(list(map(float2str, [mse, r2, p_val, CI])))\n",
    "print('Testing MSE: ' + str(mse) + ' , Pearson Correlation: ' + str(r2) \n",
    "    + ' with p-value: ' + str(p_val) +' , Concordance Index: '+str(CI))\n",
    "np.save(os.path.join(model.result_folder, str(model.drug_encoding) + '_' + str(model.target_encoding) \n",
    "    + '_logits.npy'), np.array(logits))    "
   ]
  },
  {
   "cell_type": "code",
   "execution_count": null,
   "metadata": {},
   "outputs": [],
   "source": []
  }
 ]
}